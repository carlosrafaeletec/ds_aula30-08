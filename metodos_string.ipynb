{
 "cells": [
  {
   "attachments": {},
   "cell_type": "markdown",
   "metadata": {},
   "source": [
    "## Métodos para manitpulação de strings\n",
    "String nada mais é do que uma lista de caracteres, desta forma\n",
    "ela também pode ser tratada pelos índices.\n",
    "<br>\n",
    "\n",
    "### Principais métodos:\n",
    "\n",
    "### find()\n",
    "Este método procura um trecho de uma string em uma outra maior, caso encontre, retorna o primeiro índice da string senão, retorna -1.\n",
    "```\n",
    "<string>.find(string, inicio, fim)\n",
    "```"
   ]
  },
  {
   "cell_type": "code",
   "execution_count": 2,
   "metadata": {},
   "outputs": [
    {
     "name": "stdout",
     "output_type": "stream",
     "text": [
      "8\n",
      "4\n",
      "-1\n",
      "17\n"
     ]
    }
   ],
   "source": [
    "frase = \"Veremos agora os métodos de manipulação de strings\"\n",
    "posicao = frase.find(\"agora\")\n",
    "print(posicao)\n",
    "print(frase.find(\"m\"))\n",
    "print(frase.find(\"texto\"))\n",
    "print(frase.find(\"m\", 10, 20))\n",
    "\n"
   ]
  },
  {
   "attachments": {},
   "cell_type": "markdown",
   "metadata": {},
   "source": [
    "Exercício:\n",
    "1. Dada uma frase pelo usuário, solicitar UM caractere e exibir todas as posições onde este caractere está."
   ]
  },
  {
   "cell_type": "code",
   "execution_count": 36,
   "metadata": {},
   "outputs": [
    {
     "name": "stdout",
     "output_type": "stream",
     "text": [
      "[2, 7, 11]\n"
     ]
    }
   ],
   "source": [
    "Usu = input(\"Digite a frase: \")\n",
    "carac = input(\"Digite o caractere: \")\n",
    "\n",
    "lista = []\n",
    "def proc_carac(Usu: str, carac: str, l: list) -> str:\n",
    "    posic = 0\n",
    "    fim = len(Usu)\n",
    "    for i in range(fim):\n",
    "        busc = Usu.find(carac, posic, fim)\n",
    "        if busc != -1:\n",
    "            l.append(int(busc))\n",
    "            posic = busc + 1\n",
    "        else:\n",
    "            break\n",
    "    return l\n",
    "\n",
    "x = proc_carac(Usu, carac, lista)\n",
    "print(x)\n",
    "\n",
    "# vai corinthians"
   ]
  }
 ],
 "metadata": {
  "kernelspec": {
   "display_name": "Python 3",
   "language": "python",
   "name": "python3"
  },
  "language_info": {
   "codemirror_mode": {
    "name": "ipython",
    "version": 3
   },
   "file_extension": ".py",
   "mimetype": "text/x-python",
   "name": "python",
   "nbconvert_exporter": "python",
   "pygments_lexer": "ipython3",
   "version": "3.11.4"
  },
  "orig_nbformat": 4
 },
 "nbformat": 4,
 "nbformat_minor": 2
}
