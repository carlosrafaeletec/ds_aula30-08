{
 "cells": [
  {
   "attachments": {},
   "cell_type": "markdown",
   "metadata": {},
   "source": [
    "## Métodos para manitpulação de strings\n",
    "String nada mais é do que uma lista de caracteres, desta forma\n",
    "ela também pode ser tratada pelos índices.\n",
    "<br>\n",
    "\n",
    "### Principais métodos:\n",
    "\n",
    "### find()\n",
    "Este método procura um trecho de uma string em uma outra maior, caso encontre, retorna o primeiro índice da string senão, retorna -1.\n",
    "```\n",
    "<string>.find(string, inicio, fim)\n",
    "```"
   ]
  },
  {
   "cell_type": "code",
   "execution_count": 2,
   "metadata": {},
   "outputs": [
    {
     "name": "stdout",
     "output_type": "stream",
     "text": [
      "8\n",
      "4\n",
      "-1\n",
      "17\n"
     ]
    }
   ],
   "source": [
    "frase = \"Veremos agora os métodos de manipulação de strings\"\n",
    "posicao = frase.find(\"agora\")\n",
    "print(posicao)\n",
    "print(frase.find(\"m\"))\n",
    "print(frase.find(\"texto\"))\n",
    "print(frase.find(\"m\", 10, 20))\n",
    "\n"
   ]
  },
  {
   "attachments": {},
   "cell_type": "markdown",
   "metadata": {},
   "source": [
    "Exercício:\n",
    "1. Dada uma frase pelo usuário, solicitar UM caractere e exibir todas as posições onde este caractere está."
   ]
  },
  {
   "cell_type": "code",
   "execution_count": 37,
   "metadata": {},
   "outputs": [
    {
     "name": "stdout",
     "output_type": "stream",
     "text": [
      "[1, 7, 19, 22]\n"
     ]
    }
   ],
   "source": [
    "Usu = input(\"Digite a frase: \")\n",
    "carac = input(\"Digite o caractere: \")\n",
    "\n",
    "lista = []\n",
    "def proc_carac(Usu: str, carac: str, l: list) -> str:\n",
    "    posic = 0\n",
    "    fim = len(Usu)\n",
    "    for i in range(fim):\n",
    "        busc = Usu.find(carac, posic, fim)\n",
    "        if busc != -1:\n",
    "            l.append(int(busc))\n",
    "            posic = busc + 1\n",
    "        else:\n",
    "            break\n",
    "    return l\n",
    "\n",
    "x = proc_carac(Usu, carac, lista)\n",
    "print(x)\n",
    "\n",
    "# vai corinthians"
   ]
  },
  {
   "attachments": {},
   "cell_type": "markdown",
   "metadata": {},
   "source": [
    "### join()\n",
    "Ele pega uma lista de elementos string e transforma  em uma string."
   ]
  },
  {
   "cell_type": "code",
   "execution_count": 40,
   "metadata": {},
   "outputs": [
    {
     "name": "stdout",
     "output_type": "stream",
     "text": [
      "['Lua', 'de', 'mel'] <class 'list'>\n",
      "Lua-de-mel\n",
      "Lua,de,mel\n",
      "Luaolha que legaldeolha que legalmel\n"
     ]
    }
   ],
   "source": [
    "# frase1 = \"lua de mel\"\n",
    "# frase1[0] = 'L'\n",
    "# print(frase1[0])\n",
    "# frase2 = ['l', 'u', 'a', ' ', 'd', 'e', ' ', 'mel']\n",
    "# frase2[0] = 'L'\n",
    "# print(frase2[0])\n",
    "frase3 = [\"Lua\", \"de\", \"mel\"]\n",
    "print(frase3, type(frase3))\n",
    "x = \" \".join(frase3)\n",
    "print(\"-\".join(frase3))\n",
    "print(\",\".join(frase3))\n",
    "print(\"olha que legal\".join(frase3))\n",
    "\n",
    "\n",
    "\n",
    "# Lua de mel"
   ]
  },
  {
   "attachments": {},
   "cell_type": "markdown",
   "metadata": {},
   "source": [
    "## split()\n",
    "O método spli é complemento do join(), ou seja, ele faz o contrário."
   ]
  },
  {
   "cell_type": "code",
   "execution_count": 45,
   "metadata": {},
   "outputs": [
    {
     "name": "stdout",
     "output_type": "stream",
     "text": [
      "Carlos Tevez\n",
      "['Carlos', 'Tevez']\n",
      "['Carlos T', 'v', 'z']\n",
      "['Carlos Te', 'z']\n",
      "['Carlos Tevez']\n"
     ]
    }
   ],
   "source": [
    "nome = \"Carlos Tevez\"\n",
    "print(nome)\n",
    "print(nome.split()) # separa os elementos por espaços\n",
    "print(nome.split('e')) # separa os elementos por 'e'\n",
    "print(nome.split('ve'))\n",
    "print(nome.split('x'))\n"
   ]
  },
  {
   "attachments": {},
   "cell_type": "markdown",
   "metadata": {},
   "source": [
    "##  replace(str1, str2)\n",
    "\n",
    "procura a setença str1 e troca por str2."
   ]
  },
  {
   "cell_type": "code",
   "execution_count": 49,
   "metadata": {},
   "outputs": [
    {
     "name": "stdout",
     "output_type": "stream",
     "text": [
      "carlos tEvEz rossEto\n",
      "carlos teVEz rosseto\n",
      "carlos tzvzz rosszto\n",
      "carlos_tevez_rosseto\n",
      "carlos_tevez rosseto\n"
     ]
    }
   ],
   "source": [
    "nome = \"carlos tevez rosseto\"\n",
    "print(nome.replace('e', 'E'))\n",
    "print(nome.replace('ve', 'VE'))\n",
    "print(nome.replace('e', 'z'))\n",
    "print(nome.replace(' ', '_'))\n",
    "print(nome.replace(' ', '_', 1))"
   ]
  },
  {
   "attachments": {},
   "cell_type": "markdown",
   "metadata": {},
   "source": [
    "## strip()\n",
    "Elimina todos os espaços das extremidades"
   ]
  },
  {
   "cell_type": "code",
   "execution_count": 51,
   "metadata": {},
   "outputs": [
    {
     "name": "stdout",
     "output_type": "stream",
     "text": [
      "' eliminaosespaços ' tem tamanho 18\n",
      "'eliminaosespaços' tem tamanho 16\n"
     ]
    }
   ],
   "source": [
    "texto = \" eliminaosespaços \"\n",
    "print(f\"'{texto}' tem tamanho {len(texto)}\")\n",
    "print(f\"'{texto.strip()}' tem tamanho {len(texto.strip())}\")\n"
   ]
  },
  {
   "attachments": {},
   "cell_type": "markdown",
   "metadata": {},
   "source": [
    "### operador de identidade: in \n",
    "Retorna True se há algo na lista, senão retorna False"
   ]
  },
  {
   "cell_type": "code",
   "execution_count": 57,
   "metadata": {},
   "outputs": [
    {
     "name": "stdout",
     "output_type": "stream",
     "text": [
      "Existe\n",
      "Existe\n",
      "Existe\n"
     ]
    }
   ],
   "source": [
    "num = 3\n",
    "if num in [1,2,3,4,5]:\n",
    "    print(\"Existe\")\n",
    "else:\n",
    "    print(\"Não existe\")\n",
    "\n",
    "texto = \"Carlos Tevez\"\n",
    "trecho = \"e\"\n",
    "if trecho in texto:\n",
    "    print(\"Existe\")\n",
    "else:\n",
    "    print(\"Não existe\")\n",
    "\n",
    "if '@' in ['a', 'b', 'c']:\n",
    "    print(\"Existe\")\n",
    "else:\n",
    "    print(\"Não existe\")\n",
    "\n",
    "if '@' in \"abc@\":\n",
    "    print(\"Existe\")\n",
    "else:\n",
    "    print(\"Não existe\")"
   ]
  }
 ],
 "metadata": {
  "kernelspec": {
   "display_name": "Python 3",
   "language": "python",
   "name": "python3"
  },
  "language_info": {
   "codemirror_mode": {
    "name": "ipython",
    "version": 3
   },
   "file_extension": ".py",
   "mimetype": "text/x-python",
   "name": "python",
   "nbconvert_exporter": "python",
   "pygments_lexer": "ipython3",
   "version": "3.11.4"
  },
  "orig_nbformat": 4
 },
 "nbformat": 4,
 "nbformat_minor": 2
}
