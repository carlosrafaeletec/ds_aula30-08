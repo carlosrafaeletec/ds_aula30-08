{
 "cells": [
  {
   "attachments": {},
   "cell_type": "markdown",
   "metadata": {},
   "source": [
    "## Fatiamento de Lista\n",
    "\n",
    "Utilizamos este recurso quando precisamos pegar parte da lista\n",
    "```\n",
    "objeto[inicio: fim: passo]\n",
    "```"
   ]
  },
  {
   "cell_type": "code",
   "execution_count": 9,
   "metadata": {},
   "outputs": [
    {
     "name": "stdout",
     "output_type": "stream",
     "text": [
      "[10, 20, 30, 40, 50, 60, 70, 80, 90, 100]\n",
      "[40, 50, 60, 70]\n",
      "[70, 80, 90]\n",
      "10\n",
      "100\n"
     ]
    }
   ],
   "source": [
    "#       -10  -9  -8  -7  -6  -5 ...\n",
    "#        0    1   2   3   4   5 ...\n",
    "lista = [10, 20, 30, 40, 50, 60, 70, 80, 90, 100]\n",
    "\n",
    "print(lista)\n",
    "print(lista[3 : 7])\n",
    "print(lista[-4 : -1])\n",
    "print(lista[0])\n",
    "print(lista[-1])\n"
   ]
  },
  {
   "attachments": {},
   "cell_type": "markdown",
   "metadata": {},
   "source": [
    "Testando o passo"
   ]
  },
  {
   "cell_type": "code",
   "execution_count": 10,
   "metadata": {},
   "outputs": [
    {
     "name": "stdout",
     "output_type": "stream",
     "text": [
      "[10, 20, 30, 40, 50, 60, 70, 80, 90, 100] [50, 70]\n",
      "[10, 30, 50, 70, 90]\n",
      "[100, 90, 80, 70, 60, 50, 40, 30, 20]\n",
      "[100, 90, 80, 70, 60, 50, 40, 30, 20, 10]\n"
     ]
    }
   ],
   "source": [
    "new_lista = lista[4:8:2]\n",
    "print(lista, new_lista)\n",
    "print(lista[0:9:2])\n",
    "print(lista[9:0:-1])\n",
    "print(lista[::-1])\n"
   ]
  },
  {
   "attachments": {},
   "cell_type": "markdown",
   "metadata": {},
   "source": [
    "## Tuplas\n",
    "As Tuplas funcionam como listas, coma diferençade não serem interáveis (não podem ter os seus valores modificados). Quando tratamos todos os elementos, colocamos os mesmos entre parenteses ao invés de colchetes, como na lista."
   ]
  },
  {
   "cell_type": "code",
   "execution_count": 13,
   "metadata": {},
   "outputs": [
    {
     "name": "stdout",
     "output_type": "stream",
     "text": [
      "[]\n",
      "()\n",
      "[1, 2, 3]\n",
      "(1, 2, 3)\n",
      "2 (3, 2, 1)\n",
      "[1, 2, 3]\n",
      "[1, 2, 3, 4]\n",
      "(1, 2, 3, 4)\n"
     ]
    }
   ],
   "source": [
    "lista = list()\n",
    "print(lista)\n",
    "tupla = tuple()\n",
    "print(tupla)\n",
    "\n",
    "lista = [1, 2, 3]\n",
    "print(lista)\n",
    "tupla = (1, 2, 3)\n",
    "print(tupla)\n",
    "\n",
    "print(lista[1], tupla[::-1])\n",
    "\n",
    "lista_temp = list(tupla)\n",
    "print(lista_temp)\n",
    "lista_temp.append(4)\n",
    "print(lista_temp)\n",
    "tupla = tuple(lista_temp)\n",
    "print(tupla)                                    "
   ]
  }
 ],
 "metadata": {
  "kernelspec": {
   "display_name": "Python 3",
   "language": "python",
   "name": "python3"
  },
  "language_info": {
   "codemirror_mode": {
    "name": "ipython",
    "version": 3
   },
   "file_extension": ".py",
   "mimetype": "text/x-python",
   "name": "python",
   "nbconvert_exporter": "python",
   "pygments_lexer": "ipython3",
   "version": "3.11.4"
  },
  "orig_nbformat": 4
 },
 "nbformat": 4,
 "nbformat_minor": 2
}
